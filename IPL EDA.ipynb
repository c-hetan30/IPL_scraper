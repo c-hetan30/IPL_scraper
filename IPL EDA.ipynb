{
 "cells": [
  {
   "cell_type": "code",
   "execution_count": 1,
   "metadata": {},
   "outputs": [],
   "source": [
    "import numpy as np\n",
    "import pandas as pd\n",
    "import matplotlib.pyplot as plt\n",
    "import seaborn as sns\n",
    "%matplotlib inline\n"
   ]
  },
  {
   "cell_type": "code",
   "execution_count": 2,
   "metadata": {},
   "outputs": [],
   "source": [
    "#Set path for dataset\n",
    "path = 'dataset/'\n",
    "\n",
    "df_all = pd.DataFrame()\n",
    "df_year = pd.DataFrame()\n",
    "\n",
    "# Read csv files and concatenate into single data frame df_all\n",
    "for i in range (2008,2020):\n",
    "    df_year=pd.read_csv(path+'match_details_'+str(i)+'.csv')\n",
    "    df_all= df_all.append(df_year)\n",
    "\n",
    "    \n",
    "df_all[['win_runs','win_wickets']] = df_all[['win_runs','win_wickets']].fillna(0)    "
   ]
  },
  {
   "cell_type": "code",
   "execution_count": 3,
   "metadata": {},
   "outputs": [
    {
     "data": {
      "text/html": [
       "<div>\n",
       "<style scoped>\n",
       "    .dataframe tbody tr th:only-of-type {\n",
       "        vertical-align: middle;\n",
       "    }\n",
       "\n",
       "    .dataframe tbody tr th {\n",
       "        vertical-align: top;\n",
       "    }\n",
       "\n",
       "    .dataframe thead th {\n",
       "        text-align: right;\n",
       "    }\n",
       "</style>\n",
       "<table border=\"1\" class=\"dataframe\">\n",
       "  <thead>\n",
       "    <tr style=\"text-align: right;\">\n",
       "      <th></th>\n",
       "      <th>url</th>\n",
       "      <th>match_id</th>\n",
       "      <th>team_1</th>\n",
       "      <th>team_2</th>\n",
       "      <th>win_runs</th>\n",
       "      <th>win_wickets</th>\n",
       "      <th>winner</th>\n",
       "      <th>match_drawn</th>\n",
       "      <th>match_abandoned</th>\n",
       "      <th>no_result</th>\n",
       "      <th>toss_winner</th>\n",
       "      <th>winner_choice</th>\n",
       "      <th>series</th>\n",
       "      <th>pom</th>\n",
       "      <th>match_number</th>\n",
       "      <th>city</th>\n",
       "      <th>date</th>\n",
       "      <th>day_night</th>\n",
       "    </tr>\n",
       "  </thead>\n",
       "  <tbody>\n",
       "    <tr>\n",
       "      <th>0</th>\n",
       "      <td>https://www.espncricinfo.com/series/8048/score...</td>\n",
       "      <td>336040</td>\n",
       "      <td>Chennai Super Kings</td>\n",
       "      <td>Rajasthan Royals</td>\n",
       "      <td>NaN</td>\n",
       "      <td>3.0</td>\n",
       "      <td>Rajasthan Royals</td>\n",
       "      <td>NaN</td>\n",
       "      <td>NaN</td>\n",
       "      <td>NaN</td>\n",
       "      <td>Rajasthan Royals</td>\n",
       "      <td>Field</td>\n",
       "      <td>Indian Premier League 2008</td>\n",
       "      <td>Yusuf Pathan</td>\n",
       "      <td>Final</td>\n",
       "      <td>Mumbai</td>\n",
       "      <td>Jun 1 2008</td>\n",
       "      <td>N</td>\n",
       "    </tr>\n",
       "    <tr>\n",
       "      <th>1</th>\n",
       "      <td>https://www.espncricinfo.com/series/8048/score...</td>\n",
       "      <td>335982</td>\n",
       "      <td>Kolkata Knight Riders</td>\n",
       "      <td>Royal Challengers Bangalore</td>\n",
       "      <td>140.0</td>\n",
       "      <td>NaN</td>\n",
       "      <td>Kolkata Knight Riders</td>\n",
       "      <td>NaN</td>\n",
       "      <td>NaN</td>\n",
       "      <td>NaN</td>\n",
       "      <td>Royal Challengers Bangalore</td>\n",
       "      <td>Field</td>\n",
       "      <td>Indian Premier League 2008</td>\n",
       "      <td>Brendon McCullum</td>\n",
       "      <td>1</td>\n",
       "      <td>Bengaluru</td>\n",
       "      <td>Apr 18 2008</td>\n",
       "      <td>N</td>\n",
       "    </tr>\n",
       "  </tbody>\n",
       "</table>\n",
       "</div>"
      ],
      "text/plain": [
       "                                                 url  match_id  \\\n",
       "0  https://www.espncricinfo.com/series/8048/score...    336040   \n",
       "1  https://www.espncricinfo.com/series/8048/score...    335982   \n",
       "\n",
       "                  team_1                       team_2  win_runs  win_wickets  \\\n",
       "0    Chennai Super Kings             Rajasthan Royals       NaN          3.0   \n",
       "1  Kolkata Knight Riders  Royal Challengers Bangalore     140.0          NaN   \n",
       "\n",
       "                  winner  match_drawn match_abandoned no_result  \\\n",
       "0       Rajasthan Royals          NaN             NaN       NaN   \n",
       "1  Kolkata Knight Riders          NaN             NaN       NaN   \n",
       "\n",
       "                   toss_winner winner_choice                      series  \\\n",
       "0             Rajasthan Royals         Field  Indian Premier League 2008   \n",
       "1  Royal Challengers Bangalore         Field  Indian Premier League 2008   \n",
       "\n",
       "                pom match_number       city         date day_night  \n",
       "0      Yusuf Pathan        Final     Mumbai   Jun 1 2008         N  \n",
       "1  Brendon McCullum            1  Bengaluru  Apr 18 2008         N  "
      ]
     },
     "execution_count": 3,
     "metadata": {},
     "output_type": "execute_result"
    }
   ],
   "source": [
    "df_all.head(2)  "
   ]
  },
  {
   "cell_type": "code",
   "execution_count": 4,
   "metadata": {},
   "outputs": [
    {
     "data": {
      "text/html": [
       "<div>\n",
       "<style scoped>\n",
       "    .dataframe tbody tr th:only-of-type {\n",
       "        vertical-align: middle;\n",
       "    }\n",
       "\n",
       "    .dataframe tbody tr th {\n",
       "        vertical-align: top;\n",
       "    }\n",
       "\n",
       "    .dataframe thead th {\n",
       "        text-align: right;\n",
       "    }\n",
       "</style>\n",
       "<table border=\"1\" class=\"dataframe\">\n",
       "  <thead>\n",
       "    <tr style=\"text-align: right;\">\n",
       "      <th></th>\n",
       "      <th>url</th>\n",
       "      <th>match_id</th>\n",
       "      <th>team_1</th>\n",
       "      <th>team_2</th>\n",
       "      <th>win_runs</th>\n",
       "      <th>win_wickets</th>\n",
       "      <th>winner</th>\n",
       "      <th>match_drawn</th>\n",
       "      <th>match_abandoned</th>\n",
       "      <th>no_result</th>\n",
       "      <th>toss_winner</th>\n",
       "      <th>winner_choice</th>\n",
       "      <th>series</th>\n",
       "      <th>pom</th>\n",
       "      <th>match_number</th>\n",
       "      <th>city</th>\n",
       "      <th>date</th>\n",
       "      <th>day_night</th>\n",
       "    </tr>\n",
       "  </thead>\n",
       "  <tbody>\n",
       "    <tr>\n",
       "      <th>56</th>\n",
       "      <td>https://www.espncricinfo.com/series/8048/score...</td>\n",
       "      <td>1181766</td>\n",
       "      <td>Sunrisers Hyderabad</td>\n",
       "      <td>Delhi Capitals</td>\n",
       "      <td>NaN</td>\n",
       "      <td>2.0</td>\n",
       "      <td>Delhi Capitals</td>\n",
       "      <td>NaN</td>\n",
       "      <td>NaN</td>\n",
       "      <td>NaN</td>\n",
       "      <td>Delhi Capitals</td>\n",
       "      <td>Field</td>\n",
       "      <td>Indian Premier League 2019</td>\n",
       "      <td>Rishabh Pant</td>\n",
       "      <td>Eliminator</td>\n",
       "      <td>Visakhapatnam</td>\n",
       "      <td>May 8 2019</td>\n",
       "      <td>N</td>\n",
       "    </tr>\n",
       "    <tr>\n",
       "      <th>57</th>\n",
       "      <td>https://www.espncricinfo.com/series/8048/score...</td>\n",
       "      <td>1181767</td>\n",
       "      <td>Delhi Capitals</td>\n",
       "      <td>Chennai Super Kings</td>\n",
       "      <td>NaN</td>\n",
       "      <td>6.0</td>\n",
       "      <td>Chennai Super Kings</td>\n",
       "      <td>NaN</td>\n",
       "      <td>NaN</td>\n",
       "      <td>NaN</td>\n",
       "      <td>Chennai Super Kings</td>\n",
       "      <td>Field</td>\n",
       "      <td>Indian Premier League 2019</td>\n",
       "      <td>Faf du Plessis</td>\n",
       "      <td>Qualifier</td>\n",
       "      <td>Visakhapatnam</td>\n",
       "      <td>May 10 2019</td>\n",
       "      <td>N</td>\n",
       "    </tr>\n",
       "  </tbody>\n",
       "</table>\n",
       "</div>"
      ],
      "text/plain": [
       "                                                  url  match_id  \\\n",
       "56  https://www.espncricinfo.com/series/8048/score...   1181766   \n",
       "57  https://www.espncricinfo.com/series/8048/score...   1181767   \n",
       "\n",
       "                 team_1               team_2  win_runs  win_wickets  \\\n",
       "56  Sunrisers Hyderabad       Delhi Capitals       NaN          2.0   \n",
       "57       Delhi Capitals  Chennai Super Kings       NaN          6.0   \n",
       "\n",
       "                 winner  match_drawn match_abandoned no_result  \\\n",
       "56       Delhi Capitals          NaN             NaN       NaN   \n",
       "57  Chennai Super Kings          NaN             NaN       NaN   \n",
       "\n",
       "            toss_winner winner_choice                      series  \\\n",
       "56       Delhi Capitals         Field  Indian Premier League 2019   \n",
       "57  Chennai Super Kings         Field  Indian Premier League 2019   \n",
       "\n",
       "               pom match_number           city         date day_night  \n",
       "56    Rishabh Pant   Eliminator  Visakhapatnam   May 8 2019         N  \n",
       "57  Faf du Plessis    Qualifier  Visakhapatnam  May 10 2019         N  "
      ]
     },
     "execution_count": 4,
     "metadata": {},
     "output_type": "execute_result"
    }
   ],
   "source": [
    "df_all.tail(2)  "
   ]
  },
  {
   "cell_type": "code",
   "execution_count": 5,
   "metadata": {},
   "outputs": [],
   "source": [
    "df_all.to_csv(path+'match_details_all.csv')"
   ]
  },
  {
   "cell_type": "code",
   "execution_count": 6,
   "metadata": {},
   "outputs": [
    {
     "name": "stdout",
     "output_type": "stream",
     "text": [
      "Number of matches played so far :  732\n"
     ]
    }
   ],
   "source": [
    "# Let us get some basic stats #\n",
    "print(\"Number of matches played so far : \", df_all.shape[0])\n"
   ]
  },
  {
   "cell_type": "code",
   "execution_count": 7,
   "metadata": {},
   "outputs": [],
   "source": [
    "#Extract season from Series\n",
    "df_all['season']=df_all['series'].str[-4:]"
   ]
  },
  {
   "cell_type": "code",
   "execution_count": 8,
   "metadata": {},
   "outputs": [
    {
     "name": "stdout",
     "output_type": "stream",
     "text": [
      "Number of seasons :  12\n"
     ]
    }
   ],
   "source": [
    "print(\"Number of seasons : \", len(df_all.season.unique()))"
   ]
  },
  {
   "cell_type": "code",
   "execution_count": 9,
   "metadata": {},
   "outputs": [
    {
     "data": {
      "text/plain": [
       "<matplotlib.axes._subplots.AxesSubplot at 0x16dff2e0780>"
      ]
     },
     "execution_count": 9,
     "metadata": {},
     "output_type": "execute_result"
    },
    {
     "data": {
      "image/png": "[encoded data removed]",
      "text/plain": [
       "<Figure size 432x288 with 1 Axes>"
      ]
     },
     "metadata": {},
     "output_type": "display_data"
    }
   ],
   "source": [
    "sns.countplot(x='season', data=df_all)"
   ]
  },
  {
   "cell_type": "code",
   "execution_count": 10,
   "metadata": {},
   "outputs": [
    {
     "data": {
      "text/plain": [
       "(array([ 0,  1,  2,  3,  4,  5,  6,  7,  8,  9, 10, 11, 12, 13, 14, 15, 16,\n",
       "        17, 18, 19, 20, 21, 22, 23, 24, 25, 26, 27, 28, 29, 30, 31]),\n",
       " <a list of 32 Text major ticklabel objects>)"
      ]
     },
     "execution_count": 10,
     "metadata": {},
     "output_type": "execute_result"
    },
    {
     "data": {
      "image/png": "[encoded data removed]",
      "text/plain": [
       "<Figure size 864x432 with 1 Axes>"
      ]
     },
     "metadata": {},
     "output_type": "display_data"
    }
   ],
   "source": [
    "# Number of matches hosted by city \n",
    "plt.figure(figsize=(12,6))\n",
    "sns.countplot(x='city', data=df_all,order=df_all['city'].value_counts().index)\n",
    "plt.xticks(rotation='vertical')\n"
   ]
  },
  {
   "cell_type": "code",
   "execution_count": 11,
   "metadata": {},
   "outputs": [],
   "source": [
    "temp_df = pd.melt(df_all, id_vars=['match_id','season'], value_vars=['team_1', 'team_2'])"
   ]
  },
  {
   "cell_type": "code",
   "execution_count": 12,
   "metadata": {},
   "outputs": [
    {
     "data": {
      "text/html": [
       "<div>\n",
       "<style scoped>\n",
       "    .dataframe tbody tr th:only-of-type {\n",
       "        vertical-align: middle;\n",
       "    }\n",
       "\n",
       "    .dataframe tbody tr th {\n",
       "        vertical-align: top;\n",
       "    }\n",
       "\n",
       "    .dataframe thead th {\n",
       "        text-align: right;\n",
       "    }\n",
       "</style>\n",
       "<table border=\"1\" class=\"dataframe\">\n",
       "  <thead>\n",
       "    <tr style=\"text-align: right;\">\n",
       "      <th></th>\n",
       "      <th>match_id</th>\n",
       "      <th>season</th>\n",
       "      <th>variable</th>\n",
       "      <th>value</th>\n",
       "    </tr>\n",
       "  </thead>\n",
       "  <tbody>\n",
       "    <tr>\n",
       "      <th>0</th>\n",
       "      <td>336040</td>\n",
       "      <td>2008</td>\n",
       "      <td>team_1</td>\n",
       "      <td>Chennai Super Kings</td>\n",
       "    </tr>\n",
       "    <tr>\n",
       "      <th>1</th>\n",
       "      <td>335982</td>\n",
       "      <td>2008</td>\n",
       "      <td>team_1</td>\n",
       "      <td>Kolkata Knight Riders</td>\n",
       "    </tr>\n",
       "    <tr>\n",
       "      <th>2</th>\n",
       "      <td>335983</td>\n",
       "      <td>2008</td>\n",
       "      <td>team_1</td>\n",
       "      <td>Chennai Super Kings</td>\n",
       "    </tr>\n",
       "    <tr>\n",
       "      <th>3</th>\n",
       "      <td>335984</td>\n",
       "      <td>2008</td>\n",
       "      <td>team_1</td>\n",
       "      <td>Rajasthan Royals</td>\n",
       "    </tr>\n",
       "    <tr>\n",
       "      <th>4</th>\n",
       "      <td>335986</td>\n",
       "      <td>2008</td>\n",
       "      <td>team_1</td>\n",
       "      <td>Deccan Chargers</td>\n",
       "    </tr>\n",
       "    <tr>\n",
       "      <th>...</th>\n",
       "      <td>...</td>\n",
       "      <td>...</td>\n",
       "      <td>...</td>\n",
       "      <td>...</td>\n",
       "    </tr>\n",
       "    <tr>\n",
       "      <th>1459</th>\n",
       "      <td>1178430</td>\n",
       "      <td>2019</td>\n",
       "      <td>team_2</td>\n",
       "      <td>Kings XI Punjab</td>\n",
       "    </tr>\n",
       "    <tr>\n",
       "      <th>1460</th>\n",
       "      <td>1178431</td>\n",
       "      <td>2019</td>\n",
       "      <td>team_2</td>\n",
       "      <td>Mumbai Indians</td>\n",
       "    </tr>\n",
       "    <tr>\n",
       "      <th>1461</th>\n",
       "      <td>1181764</td>\n",
       "      <td>2019</td>\n",
       "      <td>team_2</td>\n",
       "      <td>Mumbai Indians</td>\n",
       "    </tr>\n",
       "    <tr>\n",
       "      <th>1462</th>\n",
       "      <td>1181766</td>\n",
       "      <td>2019</td>\n",
       "      <td>team_2</td>\n",
       "      <td>Delhi Capitals</td>\n",
       "    </tr>\n",
       "    <tr>\n",
       "      <th>1463</th>\n",
       "      <td>1181767</td>\n",
       "      <td>2019</td>\n",
       "      <td>team_2</td>\n",
       "      <td>Chennai Super Kings</td>\n",
       "    </tr>\n",
       "  </tbody>\n",
       "</table>\n",
       "<p>1464 rows × 4 columns</p>\n",
       "</div>"
      ],
      "text/plain": [
       "      match_id season variable                  value\n",
       "0       336040   2008   team_1    Chennai Super Kings\n",
       "1       335982   2008   team_1  Kolkata Knight Riders\n",
       "2       335983   2008   team_1    Chennai Super Kings\n",
       "3       335984   2008   team_1       Rajasthan Royals\n",
       "4       335986   2008   team_1        Deccan Chargers\n",
       "...        ...    ...      ...                    ...\n",
       "1459   1178430   2019   team_2        Kings XI Punjab\n",
       "1460   1178431   2019   team_2         Mumbai Indians\n",
       "1461   1181764   2019   team_2         Mumbai Indians\n",
       "1462   1181766   2019   team_2         Delhi Capitals\n",
       "1463   1181767   2019   team_2    Chennai Super Kings\n",
       "\n",
       "[1464 rows x 4 columns]"
      ]
     },
     "execution_count": 12,
     "metadata": {},
     "output_type": "execute_result"
    }
   ],
   "source": [
    "temp_df"
   ]
  },
  {
   "cell_type": "code",
   "execution_count": 13,
   "metadata": {},
   "outputs": [
    {
     "data": {
      "image/png": "[encoded data removed]",
      "text/plain": [
       "<Figure size 864x432 with 1 Axes>"
      ]
     },
     "metadata": {},
     "output_type": "display_data"
    }
   ],
   "source": [
    "plt.figure(figsize=(12,6))\n",
    "sns.countplot(x='value', data=temp_df,order=temp_df['value'].value_counts().index )\n",
    "plt.xticks(rotation='vertical')\n",
    "plt.show()"
   ]
  },
  {
   "cell_type": "markdown",
   "metadata": {},
   "source": [
    "Here we see some teams are repeated. \n",
    "This is because some of the franchises changed their team name between seasons.\n",
    "For eg.\n",
    "Pune Warriors - Rising Pune Supergiant(s)\n",
    "Delhi Daredevils - Delhi Capitals\n",
    "\n",
    "Lets merge these teams to same name (latest name used by team)"
   ]
  },
  {
   "cell_type": "code",
   "execution_count": 14,
   "metadata": {},
   "outputs": [
    {
     "data": {
      "text/plain": [
       "array(['Chennai Super Kings', 'Kolkata Knight Riders', 'Rajasthan Royals',\n",
       "       'Deccan Chargers', 'Mumbai Indians', 'Kings XI Punjab',\n",
       "       'Royal Challengers Bangalore', 'Delhi Daredevils', 'Pune Warriors',\n",
       "       'Kochi Tuskers Kerala', 'Sunrisers Hyderabad',\n",
       "       'Rising Pune Supergiants', 'Gujarat Lions',\n",
       "       'Rising Pune Supergiant', 'Delhi Capitals'], dtype=object)"
      ]
     },
     "execution_count": 14,
     "metadata": {},
     "output_type": "execute_result"
    }
   ],
   "source": [
    "df_all['team_1'].unique()"
   ]
  },
  {
   "cell_type": "code",
   "execution_count": 15,
   "metadata": {},
   "outputs": [],
   "source": [
    "team_map ={\n",
    "    'Delhi Daredevils':'Delhi Capitals',\n",
    "    'Delhi Capitals':'Delhi Capitals',\n",
    "    'Pune Warriors':'Pune Warriors',\n",
    "    'Rising Pune Supergiants':'Pune Warriors',\n",
    "    'Rising Pune Supergiant':'Pune Warriors',\n",
    "    'Mumbai Indians':'Mumbai Indians',\n",
    "    'Chennai Super Kings':'Chennai Super Kings',\n",
    "    'Kolkata Knight Riders':'Kolkata Knight Riders',\n",
    "    'Rajasthan Royals':'Rajasthan Royals',\n",
    "    'Deccan Chargers':'Deccan Chargers',\n",
    "    'Kings XI Punjab':'Kings XI Punjab',\n",
    "    'Royal Challengers Bangalore':'Royal Challengers Bangalore',\n",
    "    'Kochi Tuskers Kerala':'Kochi Tuskers Kerala',\n",
    "    'Sunrisers Hyderabad':'Sunrisers Hyderabad',\n",
    "    'Gujarat Lions':'Gujarat Lions'\n",
    "}"
   ]
  },
  {
   "cell_type": "code",
   "execution_count": 16,
   "metadata": {},
   "outputs": [
    {
     "data": {
      "text/html": [
       "<div>\n",
       "<style scoped>\n",
       "    .dataframe tbody tr th:only-of-type {\n",
       "        vertical-align: middle;\n",
       "    }\n",
       "\n",
       "    .dataframe tbody tr th {\n",
       "        vertical-align: top;\n",
       "    }\n",
       "\n",
       "    .dataframe thead th {\n",
       "        text-align: right;\n",
       "    }\n",
       "</style>\n",
       "<table border=\"1\" class=\"dataframe\">\n",
       "  <thead>\n",
       "    <tr style=\"text-align: right;\">\n",
       "      <th></th>\n",
       "      <th>url</th>\n",
       "      <th>match_id</th>\n",
       "      <th>team_1</th>\n",
       "      <th>team_2</th>\n",
       "      <th>win_runs</th>\n",
       "      <th>win_wickets</th>\n",
       "      <th>winner</th>\n",
       "      <th>match_drawn</th>\n",
       "      <th>match_abandoned</th>\n",
       "      <th>no_result</th>\n",
       "      <th>toss_winner</th>\n",
       "      <th>winner_choice</th>\n",
       "      <th>series</th>\n",
       "      <th>pom</th>\n",
       "      <th>match_number</th>\n",
       "      <th>city</th>\n",
       "      <th>date</th>\n",
       "      <th>day_night</th>\n",
       "      <th>season</th>\n",
       "    </tr>\n",
       "  </thead>\n",
       "  <tbody>\n",
       "    <tr>\n",
       "      <th>0</th>\n",
       "      <td>https://www.espncricinfo.com/series/8048/score...</td>\n",
       "      <td>336040</td>\n",
       "      <td>Chennai Super Kings</td>\n",
       "      <td>Rajasthan Royals</td>\n",
       "      <td>NaN</td>\n",
       "      <td>3.0</td>\n",
       "      <td>Rajasthan Royals</td>\n",
       "      <td>NaN</td>\n",
       "      <td>NaN</td>\n",
       "      <td>NaN</td>\n",
       "      <td>Rajasthan Royals</td>\n",
       "      <td>Field</td>\n",
       "      <td>Indian Premier League 2008</td>\n",
       "      <td>Yusuf Pathan</td>\n",
       "      <td>Final</td>\n",
       "      <td>Mumbai</td>\n",
       "      <td>Jun 1 2008</td>\n",
       "      <td>N</td>\n",
       "      <td>2008</td>\n",
       "    </tr>\n",
       "    <tr>\n",
       "      <th>1</th>\n",
       "      <td>https://www.espncricinfo.com/series/8048/score...</td>\n",
       "      <td>335982</td>\n",
       "      <td>Kolkata Knight Riders</td>\n",
       "      <td>Royal Challengers Bangalore</td>\n",
       "      <td>140.0</td>\n",
       "      <td>NaN</td>\n",
       "      <td>Kolkata Knight Riders</td>\n",
       "      <td>NaN</td>\n",
       "      <td>NaN</td>\n",
       "      <td>NaN</td>\n",
       "      <td>Royal Challengers Bangalore</td>\n",
       "      <td>Field</td>\n",
       "      <td>Indian Premier League 2008</td>\n",
       "      <td>Brendon McCullum</td>\n",
       "      <td>1</td>\n",
       "      <td>Bengaluru</td>\n",
       "      <td>Apr 18 2008</td>\n",
       "      <td>N</td>\n",
       "      <td>2008</td>\n",
       "    </tr>\n",
       "  </tbody>\n",
       "</table>\n",
       "</div>"
      ],
      "text/plain": [
       "                                                 url  match_id  \\\n",
       "0  https://www.espncricinfo.com/series/8048/score...    336040   \n",
       "1  https://www.espncricinfo.com/series/8048/score...    335982   \n",
       "\n",
       "                  team_1                       team_2  win_runs  win_wickets  \\\n",
       "0    Chennai Super Kings             Rajasthan Royals       NaN          3.0   \n",
       "1  Kolkata Knight Riders  Royal Challengers Bangalore     140.0          NaN   \n",
       "\n",
       "                  winner  match_drawn match_abandoned no_result  \\\n",
       "0       Rajasthan Royals          NaN             NaN       NaN   \n",
       "1  Kolkata Knight Riders          NaN             NaN       NaN   \n",
       "\n",
       "                   toss_winner winner_choice                      series  \\\n",
       "0             Rajasthan Royals         Field  Indian Premier League 2008   \n",
       "1  Royal Challengers Bangalore         Field  Indian Premier League 2008   \n",
       "\n",
       "                pom match_number       city         date day_night season  \n",
       "0      Yusuf Pathan        Final     Mumbai   Jun 1 2008         N   2008  \n",
       "1  Brendon McCullum            1  Bengaluru  Apr 18 2008         N   2008  "
      ]
     },
     "execution_count": 16,
     "metadata": {},
     "output_type": "execute_result"
    }
   ],
   "source": [
    "df_all.head(2)"
   ]
  },
  {
   "cell_type": "code",
   "execution_count": 17,
   "metadata": {},
   "outputs": [],
   "source": [
    "df_all['team_1']=df_all['team_1'].map(team_map)\n",
    "df_all['team_2']=df_all['team_2'].map(team_map)\n",
    "df_all['winner']=df_all['winner'].map(team_map)\n",
    "df_all['toss_winner']=df_all['toss_winner'].map(team_map)"
   ]
  },
  {
   "cell_type": "code",
   "execution_count": 18,
   "metadata": {},
   "outputs": [
    {
     "data": {
      "image/png": "[encoded data removed]",
      "text/plain": [
       "<Figure size 864x432 with 1 Axes>"
      ]
     },
     "metadata": {},
     "output_type": "display_data"
    }
   ],
   "source": [
    "#Lets checl teamwise match count again\n",
    "\n",
    "temp_df = pd.melt(df_all, id_vars=['match_id','season'], value_vars=['team_1', 'team_2'])\n",
    "\n",
    "plt.figure(figsize=(12,6))\n",
    "sns.countplot(x='value', data=temp_df,order=temp_df['value'].value_counts().index )\n",
    "plt.xticks(rotation='vertical')\n",
    "plt.show()"
   ]
  },
  {
   "cell_type": "markdown",
   "metadata": {},
   "source": [
    "# Some of the teams seem to have played very less matches. \n",
    "Especially Sunriseres Hyderabad, Pune warriors, Deccan Chargers, Gujarat Lions and Kochi Tuskers Kerala\n",
    "Lets check on it further."
   ]
  },
  {
   "cell_type": "code",
   "execution_count": 23,
   "metadata": {},
   "outputs": [
    {
     "data": {
      "text/html": [
       "<div>\n",
       "<style scoped>\n",
       "    .dataframe tbody tr th:only-of-type {\n",
       "        vertical-align: middle;\n",
       "    }\n",
       "\n",
       "    .dataframe tbody tr th {\n",
       "        vertical-align: top;\n",
       "    }\n",
       "\n",
       "    .dataframe thead th {\n",
       "        text-align: right;\n",
       "    }\n",
       "</style>\n",
       "<table border=\"1\" class=\"dataframe\">\n",
       "  <thead>\n",
       "    <tr style=\"text-align: right;\">\n",
       "      <th></th>\n",
       "      <th>match_id</th>\n",
       "      <th>season</th>\n",
       "      <th>variable</th>\n",
       "      <th>value</th>\n",
       "    </tr>\n",
       "  </thead>\n",
       "  <tbody>\n",
       "    <tr>\n",
       "      <th>0</th>\n",
       "      <td>336040</td>\n",
       "      <td>2008</td>\n",
       "      <td>team_1</td>\n",
       "      <td>Chennai Super Kings</td>\n",
       "    </tr>\n",
       "    <tr>\n",
       "      <th>1</th>\n",
       "      <td>335982</td>\n",
       "      <td>2008</td>\n",
       "      <td>team_1</td>\n",
       "      <td>Kolkata Knight Riders</td>\n",
       "    </tr>\n",
       "    <tr>\n",
       "      <th>2</th>\n",
       "      <td>335983</td>\n",
       "      <td>2008</td>\n",
       "      <td>team_1</td>\n",
       "      <td>Chennai Super Kings</td>\n",
       "    </tr>\n",
       "    <tr>\n",
       "      <th>3</th>\n",
       "      <td>335984</td>\n",
       "      <td>2008</td>\n",
       "      <td>team_1</td>\n",
       "      <td>Rajasthan Royals</td>\n",
       "    </tr>\n",
       "    <tr>\n",
       "      <th>4</th>\n",
       "      <td>335986</td>\n",
       "      <td>2008</td>\n",
       "      <td>team_1</td>\n",
       "      <td>Deccan Chargers</td>\n",
       "    </tr>\n",
       "    <tr>\n",
       "      <th>...</th>\n",
       "      <td>...</td>\n",
       "      <td>...</td>\n",
       "      <td>...</td>\n",
       "      <td>...</td>\n",
       "    </tr>\n",
       "    <tr>\n",
       "      <th>1459</th>\n",
       "      <td>1178430</td>\n",
       "      <td>2019</td>\n",
       "      <td>team_2</td>\n",
       "      <td>Kings XI Punjab</td>\n",
       "    </tr>\n",
       "    <tr>\n",
       "      <th>1460</th>\n",
       "      <td>1178431</td>\n",
       "      <td>2019</td>\n",
       "      <td>team_2</td>\n",
       "      <td>Mumbai Indians</td>\n",
       "    </tr>\n",
       "    <tr>\n",
       "      <th>1461</th>\n",
       "      <td>1181764</td>\n",
       "      <td>2019</td>\n",
       "      <td>team_2</td>\n",
       "      <td>Mumbai Indians</td>\n",
       "    </tr>\n",
       "    <tr>\n",
       "      <th>1462</th>\n",
       "      <td>1181766</td>\n",
       "      <td>2019</td>\n",
       "      <td>team_2</td>\n",
       "      <td>Delhi Capitals</td>\n",
       "    </tr>\n",
       "    <tr>\n",
       "      <th>1463</th>\n",
       "      <td>1181767</td>\n",
       "      <td>2019</td>\n",
       "      <td>team_2</td>\n",
       "      <td>Chennai Super Kings</td>\n",
       "    </tr>\n",
       "  </tbody>\n",
       "</table>\n",
       "<p>1464 rows × 4 columns</p>\n",
       "</div>"
      ],
      "text/plain": [
       "      match_id  season variable                  value\n",
       "0       336040    2008   team_1    Chennai Super Kings\n",
       "1       335982    2008   team_1  Kolkata Knight Riders\n",
       "2       335983    2008   team_1    Chennai Super Kings\n",
       "3       335984    2008   team_1       Rajasthan Royals\n",
       "4       335986    2008   team_1        Deccan Chargers\n",
       "...        ...     ...      ...                    ...\n",
       "1459   1178430    2019   team_2        Kings XI Punjab\n",
       "1460   1178431    2019   team_2         Mumbai Indians\n",
       "1461   1181764    2019   team_2         Mumbai Indians\n",
       "1462   1181766    2019   team_2         Delhi Capitals\n",
       "1463   1181767    2019   team_2    Chennai Super Kings\n",
       "\n",
       "[1464 rows x 4 columns]"
      ]
     },
     "execution_count": 23,
     "metadata": {},
     "output_type": "execute_result"
    }
   ],
   "source": [
    "temp_df\n"
   ]
  },
  {
   "cell_type": "code",
   "execution_count": 20,
   "metadata": {},
   "outputs": [
    {
     "name": "stdout",
     "output_type": "stream",
     "text": [
      "<class 'pandas.core.frame.DataFrame'>\n",
      "RangeIndex: 1464 entries, 0 to 1463\n",
      "Data columns (total 4 columns):\n",
      " #   Column    Non-Null Count  Dtype \n",
      "---  ------    --------------  ----- \n",
      " 0   match_id  1464 non-null   int64 \n",
      " 1   season    1464 non-null   object\n",
      " 2   variable  1464 non-null   object\n",
      " 3   value     1464 non-null   object\n",
      "dtypes: int64(1), object(3)\n",
      "memory usage: 45.9+ KB\n"
     ]
    }
   ],
   "source": [
    "temp_df.info()"
   ]
  },
  {
   "cell_type": "code",
   "execution_count": 24,
   "metadata": {},
   "outputs": [],
   "source": [
    "temp_df['season']=temp_df['season'].apply(pd.to_numeric) "
   ]
  },
  {
   "cell_type": "code",
   "execution_count": 25,
   "metadata": {},
   "outputs": [
    {
     "name": "stdout",
     "output_type": "stream",
     "text": [
      "<class 'pandas.core.frame.DataFrame'>\n",
      "RangeIndex: 1464 entries, 0 to 1463\n",
      "Data columns (total 4 columns):\n",
      " #   Column    Non-Null Count  Dtype \n",
      "---  ------    --------------  ----- \n",
      " 0   match_id  1464 non-null   int64 \n",
      " 1   season    1464 non-null   int64 \n",
      " 2   variable  1464 non-null   object\n",
      " 3   value     1464 non-null   object\n",
      "dtypes: int64(2), object(2)\n",
      "memory usage: 45.9+ KB\n"
     ]
    }
   ],
   "source": [
    "temp_df.info()"
   ]
  },
  {
   "cell_type": "code",
   "execution_count": 26,
   "metadata": {},
   "outputs": [
    {
     "data": {
      "text/plain": [
       "<matplotlib.axes._subplots.AxesSubplot at 0x16dff20bac8>"
      ]
     },
     "execution_count": 26,
     "metadata": {},
     "output_type": "execute_result"
    },
    {
     "data": {
      "image/png": "[encoded data removed]",
      "text/plain": [
       "<Figure size 1440x360 with 1 Axes>"
      ]
     },
     "metadata": {},
     "output_type": "display_data"
    }
   ],
   "source": [
    "plt.figure(figsize=(20,5))\n",
    "sns.countplot(x='season',hue='value',data=temp_df)"
   ]
  },
  {
   "cell_type": "markdown",
   "metadata": {},
   "source": [
    "In above graph we can see some teams are missing in seasons.\n",
    "temp_df[temp_df['value']=='Sunriseres Hyderabad']"
   ]
  },
  {
   "cell_type": "code",
   "execution_count": 37,
   "metadata": {},
   "outputs": [
    {
     "data": {
      "text/html": [
       "<div>\n",
       "<style scoped>\n",
       "    .dataframe tbody tr th:only-of-type {\n",
       "        vertical-align: middle;\n",
       "    }\n",
       "\n",
       "    .dataframe tbody tr th {\n",
       "        vertical-align: top;\n",
       "    }\n",
       "\n",
       "    .dataframe thead th {\n",
       "        text-align: right;\n",
       "    }\n",
       "</style>\n",
       "<table border=\"1\" class=\"dataframe\">\n",
       "  <thead>\n",
       "    <tr style=\"text-align: right;\">\n",
       "      <th></th>\n",
       "      <th>match_id</th>\n",
       "      <th>season</th>\n",
       "      <th>variable</th>\n",
       "      <th>value</th>\n",
       "    </tr>\n",
       "  </thead>\n",
       "  <tbody>\n",
       "    <tr>\n",
       "      <th>308</th>\n",
       "      <td>598000</td>\n",
       "      <td>2013</td>\n",
       "      <td>team_1</td>\n",
       "      <td>Sunrisers Hyderabad</td>\n",
       "    </tr>\n",
       "    <tr>\n",
       "      <th>313</th>\n",
       "      <td>598048</td>\n",
       "      <td>2013</td>\n",
       "      <td>team_1</td>\n",
       "      <td>Sunrisers Hyderabad</td>\n",
       "    </tr>\n",
       "    <tr>\n",
       "      <th>325</th>\n",
       "      <td>598018</td>\n",
       "      <td>2013</td>\n",
       "      <td>team_1</td>\n",
       "      <td>Sunrisers Hyderabad</td>\n",
       "    </tr>\n",
       "    <tr>\n",
       "      <th>337</th>\n",
       "      <td>598030</td>\n",
       "      <td>2013</td>\n",
       "      <td>team_1</td>\n",
       "      <td>Sunrisers Hyderabad</td>\n",
       "    </tr>\n",
       "    <tr>\n",
       "      <th>339</th>\n",
       "      <td>598032</td>\n",
       "      <td>2013</td>\n",
       "      <td>team_1</td>\n",
       "      <td>Sunrisers Hyderabad</td>\n",
       "    </tr>\n",
       "    <tr>\n",
       "      <th>...</th>\n",
       "      <td>...</td>\n",
       "      <td>...</td>\n",
       "      <td>...</td>\n",
       "      <td>...</td>\n",
       "    </tr>\n",
       "    <tr>\n",
       "      <th>1421</th>\n",
       "      <td>1175371</td>\n",
       "      <td>2019</td>\n",
       "      <td>team_2</td>\n",
       "      <td>Sunrisers Hyderabad</td>\n",
       "    </tr>\n",
       "    <tr>\n",
       "      <th>1424</th>\n",
       "      <td>1178394</td>\n",
       "      <td>2019</td>\n",
       "      <td>team_2</td>\n",
       "      <td>Sunrisers Hyderabad</td>\n",
       "    </tr>\n",
       "    <tr>\n",
       "      <th>1435</th>\n",
       "      <td>1178405</td>\n",
       "      <td>2019</td>\n",
       "      <td>team_2</td>\n",
       "      <td>Sunrisers Hyderabad</td>\n",
       "    </tr>\n",
       "    <tr>\n",
       "      <th>1438</th>\n",
       "      <td>1178408</td>\n",
       "      <td>2019</td>\n",
       "      <td>team_2</td>\n",
       "      <td>Sunrisers Hyderabad</td>\n",
       "    </tr>\n",
       "    <tr>\n",
       "      <th>1443</th>\n",
       "      <td>1178413</td>\n",
       "      <td>2019</td>\n",
       "      <td>team_2</td>\n",
       "      <td>Sunrisers Hyderabad</td>\n",
       "    </tr>\n",
       "  </tbody>\n",
       "</table>\n",
       "<p>107 rows × 4 columns</p>\n",
       "</div>"
      ],
      "text/plain": [
       "      match_id  season variable                value\n",
       "308     598000    2013   team_1  Sunrisers Hyderabad\n",
       "313     598048    2013   team_1  Sunrisers Hyderabad\n",
       "325     598018    2013   team_1  Sunrisers Hyderabad\n",
       "337     598030    2013   team_1  Sunrisers Hyderabad\n",
       "339     598032    2013   team_1  Sunrisers Hyderabad\n",
       "...        ...     ...      ...                  ...\n",
       "1421   1175371    2019   team_2  Sunrisers Hyderabad\n",
       "1424   1178394    2019   team_2  Sunrisers Hyderabad\n",
       "1435   1178405    2019   team_2  Sunrisers Hyderabad\n",
       "1438   1178408    2019   team_2  Sunrisers Hyderabad\n",
       "1443   1178413    2019   team_2  Sunrisers Hyderabad\n",
       "\n",
       "[107 rows x 4 columns]"
      ]
     },
     "execution_count": 37,
     "metadata": {},
     "output_type": "execute_result"
    }
   ],
   "source": [
    "temp_df[temp_df['value']=='Sunrisers Hyderabad']"
   ]
  },
  {
   "cell_type": "code",
   "execution_count": 41,
   "metadata": {},
   "outputs": [
    {
     "data": {
      "text/plain": [
       "<matplotlib.axes._subplots.AxesSubplot at 0x16dff4cd7f0>"
      ]
     },
     "execution_count": 41,
     "metadata": {},
     "output_type": "execute_result"
    },
    {
     "data": {
      "image/png": "[encoded data removed]",
      "text/plain": [
       "<Figure size 1440x720 with 1 Axes>"
      ]
     },
     "metadata": {},
     "output_type": "display_data"
    }
   ],
   "source": [
    "options=['Sunrisers Hyderabad','Pune Warriors', 'Deccan Chargers', 'Gujarat Lions', 'Kochi Tuskers Kerala']\n",
    "plt.figure(figsize=(20,10))\n",
    "sns.countplot(x='season',hue='value',data=temp_df[temp_df['value'].isin(options)])"
   ]
  },
  {
   "cell_type": "markdown",
   "metadata": {},
   "source": [
    "# To Summarize :\n",
    "Deccan Chargers played between     2008-2012\n",
    "\n",
    "Pune Warriors played between       2011-2013,2016-2017\n",
    "\n",
    "Kochi Tuskers Kerala played in     2011\n",
    "\n",
    "Sunrisers Hyderabad played between 2013-2019\n",
    "\n",
    "Gujarat Lions played between       2016-2017\n",
    "\n",
    "\n",
    "Kochi being involved in 1 season explains lowest number of matches played."
   ]
  },
  {
   "cell_type": "markdown",
   "metadata": {},
   "source": [
    "# Lets now move on to Winning statistics"
   ]
  },
  {
   "cell_type": "markdown",
   "metadata": {},
   "source": [
    "## Seasonwise Champions"
   ]
  },
  {
   "cell_type": "code",
   "execution_count": 43,
   "metadata": {},
   "outputs": [
    {
     "data": {
      "text/html": [
       "<div>\n",
       "<style scoped>\n",
       "    .dataframe tbody tr th:only-of-type {\n",
       "        vertical-align: middle;\n",
       "    }\n",
       "\n",
       "    .dataframe tbody tr th {\n",
       "        vertical-align: top;\n",
       "    }\n",
       "\n",
       "    .dataframe thead th {\n",
       "        text-align: right;\n",
       "    }\n",
       "</style>\n",
       "<table border=\"1\" class=\"dataframe\">\n",
       "  <thead>\n",
       "    <tr style=\"text-align: right;\">\n",
       "      <th></th>\n",
       "      <th>season</th>\n",
       "      <th>winner</th>\n",
       "    </tr>\n",
       "  </thead>\n",
       "  <tbody>\n",
       "    <tr>\n",
       "      <th>0</th>\n",
       "      <td>2008</td>\n",
       "      <td>Chennai Super Kings</td>\n",
       "    </tr>\n",
       "    <tr>\n",
       "      <th>1</th>\n",
       "      <td>2009</td>\n",
       "      <td>Royal Challengers Bangalore</td>\n",
       "    </tr>\n",
       "    <tr>\n",
       "      <th>2</th>\n",
       "      <td>2010</td>\n",
       "      <td>Kolkata Knight Riders</td>\n",
       "    </tr>\n",
       "    <tr>\n",
       "      <th>3</th>\n",
       "      <td>2011</td>\n",
       "      <td>Deccan Chargers</td>\n",
       "    </tr>\n",
       "    <tr>\n",
       "      <th>4</th>\n",
       "      <td>2012</td>\n",
       "      <td>Chennai Super Kings</td>\n",
       "    </tr>\n",
       "    <tr>\n",
       "      <th>5</th>\n",
       "      <td>2013</td>\n",
       "      <td>Mumbai Indians</td>\n",
       "    </tr>\n",
       "    <tr>\n",
       "      <th>6</th>\n",
       "      <td>2014</td>\n",
       "      <td>Kings XI Punjab</td>\n",
       "    </tr>\n",
       "    <tr>\n",
       "      <th>7</th>\n",
       "      <td>2015</td>\n",
       "      <td>Mumbai Indians</td>\n",
       "    </tr>\n",
       "    <tr>\n",
       "      <th>8</th>\n",
       "      <td>2016</td>\n",
       "      <td>Sunrisers Hyderabad</td>\n",
       "    </tr>\n",
       "    <tr>\n",
       "      <th>9</th>\n",
       "      <td>2017</td>\n",
       "      <td>Mumbai Indians</td>\n",
       "    </tr>\n",
       "    <tr>\n",
       "      <th>10</th>\n",
       "      <td>2018</td>\n",
       "      <td>Sunrisers Hyderabad</td>\n",
       "    </tr>\n",
       "    <tr>\n",
       "      <th>11</th>\n",
       "      <td>2019</td>\n",
       "      <td>Chennai Super Kings</td>\n",
       "    </tr>\n",
       "  </tbody>\n",
       "</table>\n",
       "</div>"
      ],
      "text/plain": [
       "   season                       winner\n",
       "0    2008          Chennai Super Kings\n",
       "1    2009  Royal Challengers Bangalore\n",
       "2    2010        Kolkata Knight Riders\n",
       "3    2011              Deccan Chargers\n",
       "4    2012          Chennai Super Kings\n",
       "5    2013               Mumbai Indians\n",
       "6    2014              Kings XI Punjab\n",
       "7    2015               Mumbai Indians\n",
       "8    2016          Sunrisers Hyderabad\n",
       "9    2017               Mumbai Indians\n",
       "10   2018          Sunrisers Hyderabad\n",
       "11   2019          Chennai Super Kings"
      ]
     },
     "execution_count": 43,
     "metadata": {},
     "output_type": "execute_result"
    }
   ],
   "source": [
    "winner_df = df_all.drop_duplicates(subset=['season'], keep='last')[['season', 'winner']].reset_index(drop=True)\n",
    "winner_df"
   ]
  },
  {
   "cell_type": "markdown",
   "metadata": {},
   "source": [
    "## Toss decision"
   ]
  },
  {
   "cell_type": "code",
   "execution_count": 46,
   "metadata": {},
   "outputs": [
    {
     "data": {
      "text/plain": [
       "Text(0.5, 1.0, 'Toss decision percentage')"
      ]
     },
     "execution_count": 46,
     "metadata": {},
     "output_type": "execute_result"
    },
    {
     "data": {
      "image/png": "[encoded data removed]",
      "text/plain": [
       "<Figure size 432x288 with 1 Axes>"
      ]
     },
     "metadata": {},
     "output_type": "display_data"
    }
   ],
   "source": [
    "temp_series = df_all['winner_choice'].value_counts()\n",
    "labels = (np.array(temp_series.index))\n",
    "sizes = (np.array((temp_series / temp_series.sum())*100))\n",
    "colors = ['yellow', 'lightskyblue']\n",
    "plt.pie(sizes, labels=labels, colors=colors,\n",
    "        autopct='%1.1f%%', shadow=True, startangle=90)\n",
    "plt.title(\"Toss decision percentage\")\n"
   ]
  },
  {
   "cell_type": "markdown",
   "metadata": {},
   "source": [
    "Most of the toss winning teams chose to Field first.\n",
    "Lets break it down seasonwise"
   ]
  },
  {
   "cell_type": "code",
   "execution_count": 48,
   "metadata": {},
   "outputs": [
    {
     "data": {
      "image/png": "[encoded data removed]",
      "text/plain": [
       "<Figure size 864x432 with 1 Axes>"
      ]
     },
     "metadata": {},
     "output_type": "display_data"
    }
   ],
   "source": [
    "plt.figure(figsize=(12,6))\n",
    "sns.countplot(x='season', hue='winner_choice', data=df_all)\n",
    "plt.xticks(rotation='vertical')\n",
    "plt.show()"
   ]
  },
  {
   "cell_type": "markdown",
   "metadata": {},
   "source": [
    "We see teams leaning more towards Fielding first, in latest seasons.\n",
    "\n",
    "Since there is a very strong trend towards batting second let us see the win percentage of teams batting second."
   ]
  },
  {
   "cell_type": "code",
   "execution_count": 59,
   "metadata": {},
   "outputs": [
    {
     "data": {
      "image/png": "[encoded data removed]",
      "text/plain": [
       "<Figure size 432x288 with 1 Axes>"
      ]
     },
     "metadata": {},
     "output_type": "display_data"
    }
   ],
   "source": [
    "num_of_wins = (df_all['win_wickets']>0).sum()\n",
    "num_of_loss = (df_all['win_wickets']==0).sum()\n",
    "labels = [\"Wins\", \"Loss\"]\n",
    "total = float(num_of_wins + num_of_loss)\n",
    "sizes = [(num_of_wins/total)*100, (num_of_loss/total)*100]\n",
    "colors = ['yellow', 'lightskyblue']\n",
    "plt.pie(sizes, labels=labels, colors=colors,\n",
    "        autopct='%1.1f%%', shadow=True, startangle=90)\n",
    "plt.title(\"Win percentage Fielding first\")\n"
   ]
  },
  {
   "cell_type": "markdown",
   "metadata": {},
   "source": [
    "Fielding first has slight advantage over Batting first"
   ]
  },
  {
   "cell_type": "code",
   "execution_count": 63,
   "metadata": {},
   "outputs": [
    {
     "name": "stderr",
     "output_type": "stream",
     "text": [
      "C:\\Users\\A188492\\AI\\Anaconda\\lib\\site-packages\\pandas\\core\\indexing.py:671: SettingWithCopyWarning: \n",
      "A value is trying to be set on a copy of a slice from a DataFrame\n",
      "\n",
      "See the caveats in the documentation: https://pandas.pydata.org/pandas-docs/stable/user_guide/indexing.html#returning-a-view-versus-a-copy\n",
      "  self._setitem_with_indexer(indexer, value)\n"
     ]
    },
    {
     "data": {
      "text/plain": [
       "(array([ 0,  1,  2,  3,  4,  5,  6,  7,  8,  9, 10, 11]),\n",
       " <a list of 12 Text major ticklabel objects>)"
      ]
     },
     "execution_count": 63,
     "metadata": {},
     "output_type": "execute_result"
    },
    {
     "data": {
      "image/png": "[encoded data removed]",
      "text/plain": [
       "<Figure size 864x432 with 1 Axes>"
      ]
     },
     "metadata": {},
     "output_type": "display_data"
    }
   ],
   "source": [
    "df_all[\"field_win\"] = \"win\"\n",
    "df_all[\"field_win\"].loc[df_all['win_wickets']==0] = \"loss\"\n",
    "plt.figure(figsize=(12,6))\n",
    "sns.countplot(x='season', hue='field_win', data=df_all)\n",
    "plt.xticks(rotation='vertical')"
   ]
  },
  {
   "cell_type": "code",
   "execution_count": 70,
   "metadata": {},
   "outputs": [
    {
     "name": "stderr",
     "output_type": "stream",
     "text": [
      "C:\\Users\\A188492\\AI\\Anaconda\\lib\\site-packages\\pandas\\core\\indexing.py:671: SettingWithCopyWarning: \n",
      "A value is trying to be set on a copy of a slice from a DataFrame\n",
      "\n",
      "See the caveats in the documentation: https://pandas.pydata.org/pandas-docs/stable/user_guide/indexing.html#returning-a-view-versus-a-copy\n",
      "  self._setitem_with_indexer(indexer, value)\n"
     ]
    },
    {
     "data": {
      "text/plain": [
       "(array([ 0,  1,  2,  3,  4,  5,  6,  7,  8,  9, 10, 11]),\n",
       " <a list of 12 Text major ticklabel objects>)"
      ]
     },
     "execution_count": 70,
     "metadata": {},
     "output_type": "execute_result"
    },
    {
     "data": {
      "image/png": "[encoded data removed]",
      "text/plain": [
       "<Figure size 864x432 with 1 Axes>"
      ]
     },
     "metadata": {},
     "output_type": "display_data"
    }
   ],
   "source": [
    "plt.figure(figsize=(12,6))\n",
    "df_all['toss_winner_is_winner'] = 'no'\n",
    "df_all['toss_winner_is_winner'].loc[df_all.toss_winner == df_all.winner] = 'yes'\n",
    "sns.countplot(x='toss_winner', hue='toss_winner_is_winner',data=df_all)\n",
    "plt.xticks(rotation='vertical')"
   ]
  },
  {
   "cell_type": "markdown",
   "metadata": {},
   "source": [
    "Chennai Super Kings are more likely to win match, if they win toss\n",
    "\n",
    "Pune Warriors are more likely to lose match, if they win toss"
   ]
  },
  {
   "cell_type": "markdown",
   "metadata": {},
   "source": [
    "## Top players of the match:"
   ]
  },
  {
   "cell_type": "code",
   "execution_count": 75,
   "metadata": {},
   "outputs": [
    {
     "data": {
      "text/plain": [
       "Text(0.5, 1.0, 'Top Most Valued Player awardees')"
      ]
     },
     "execution_count": 75,
     "metadata": {},
     "output_type": "execute_result"
    },
    {
     "data": {
      "image/png": "[encoded data removed]",
      "text/plain": [
       "<Figure size 432x288 with 1 Axes>"
      ]
     },
     "metadata": {},
     "output_type": "display_data"
    }
   ],
   "source": [
    "mvp_series = df_all['pom'].value_counts()[:10]\n",
    "labels = np.array(mvp_series.index)\n",
    "ind = np.arange(len(labels))\n",
    "width = 0.9\n",
    "fig, ax = plt.subplots()\n",
    "rects = ax.bar(ind, np.array(mvp_series), width=width, color='lightblue')\n",
    "ax.set_xticks(ind+((width)/2.))\n",
    "ax.set_xticklabels(labels, rotation='vertical')\n",
    "ax.set_ylabel(\"Count\")\n",
    "ax.set_title(\"Top Most Valued Player awardees\")\n"
   ]
  },
  {
   "cell_type": "code",
   "execution_count": null,
   "metadata": {},
   "outputs": [],
   "source": []
  }
 ],
 "metadata": {
  "kernelspec": {
   "display_name": "Python 3",
   "language": "python",
   "name": "python3"
  },
  "language_info": {
   "codemirror_mode": {
    "name": "ipython",
    "version": 3
   },
   "file_extension": ".py",
   "mimetype": "text/x-python",
   "name": "python",
   "nbconvert_exporter": "python",
   "pygments_lexer": "ipython3",
   "version": "3.6.5"
  }
 },
 "nbformat": 4,
 "nbformat_minor": 2
}
